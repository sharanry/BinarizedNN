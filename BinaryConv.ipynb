{
 "cells": [
  {
   "cell_type": "code",
   "execution_count": 4,
   "metadata": {},
   "outputs": [],
   "source": [
    "import torch\n",
    "from torch import nn\n",
    "import matplotlib.pyplot as plt\n",
    "import torch.nn.functional as F\n",
    "import torch.optim as optim\n",
    "from torchvision import datasets, transforms"
   ]
  },
  {
   "cell_type": "code",
   "execution_count": 2,
   "metadata": {},
   "outputs": [],
   "source": [
    "def Binarize(tensor,quant_mode='det'):\n",
    "    if quant_mode=='det':\n",
    "        return tensor.sign()\n",
    "    else:\n",
    "        return tensor.add_(1).div_(2).add_(torch.rand(tensor.size()).add(-0.5)).clamp_(0,1).round().mul_(2).add_(-1)\n",
    "\n",
    "class BinarizeLinear(nn.Linear):\n",
    "\n",
    "    def __init__(self, *kargs, **kwargs):\n",
    "        try:\n",
    "            self.exempt = kwargs[\"exempt\"]\n",
    "            del kwargs[\"exempt\"]\n",
    "        except:\n",
    "            self.exempt=False\n",
    "        self.exempt=False\n",
    "        super(BinarizeLinear, self).__init__(*kargs, **kwargs)\n",
    "        \n",
    "\n",
    "    def forward(self, input):\n",
    "        if self.exempt:\n",
    "#         if input.size(1) != self.excempt:\n",
    "            input.data=Binarize(input.data)\n",
    "        if not hasattr(self.weight,'org'):\n",
    "            self.weight.org=self.weight.data.clone()\n",
    "        self.weight.data=Binarize(self.weight.org)\n",
    "#         print(self.weight.shape)\n",
    "        out = nn.functional.linear(input, self.weight)\n",
    "        if not self.bias is None:\n",
    "            self.bias.org=self.bias.data.clone()\n",
    "            out += self.bias.view(1, -1).expand_as(out)\n",
    "\n",
    "        return out"
   ]
  },
  {
   "cell_type": "code",
   "execution_count": 112,
   "metadata": {},
   "outputs": [],
   "source": [
    "class BinarizeConv2d(nn.Conv2d):\n",
    "\n",
    "    def __init__(self, *kargs, **kwargs):\n",
    "        try:\n",
    "            self.exempt = kwargs[\"exempt\"]\n",
    "            del kwargs[\"exempt\"]\n",
    "        except:\n",
    "            self.exempt=False\n",
    "        self.exempt=False\n",
    "        super(BinarizeConv2d, self).__init__(*kargs, **kwargs)\n",
    "        \n",
    "\n",
    "    def forward(self, input):\n",
    "        if self.exempt:\n",
    "#         if input.size(1) != self.excempt:\n",
    "            input.data=Binarize(input.data)\n",
    "        if not hasattr(self.weight,'org'):\n",
    "            self.weight.org=self.weight.data.clone()\n",
    "            self.bias.org=self.bias.data.clone()\n",
    "        self.weight.data=Binarize(self.weight.org)\n",
    "        self.bias.data=Binarize(self.bias.org)\n",
    "#         print(self.weight.shape)\n",
    "#         out = nn.functional.linear(input, self.weight)\n",
    "        out = nn.functional.conv2d(input, self.weight, self.bias, self.stride,\n",
    "                        self.padding, self.dilation, self.groups)\n",
    "#         if not self.bias is None:\n",
    "#             self.bias.org=self.bias.data.clone()\n",
    "#             out += self.bias.view(1, -1).expand_as(out)\n",
    "\n",
    "        return out"
   ]
  },
  {
   "cell_type": "code",
   "execution_count": 113,
   "metadata": {},
   "outputs": [],
   "source": [
    "class Net(nn.Module):\n",
    "    def __init__(self):\n",
    "        super(Net, self).__init__()\n",
    "        self.conv1 = BinarizeConv2d(1, 10, kernel_size=5)\n",
    "        self.conv2 = BinarizeConv2d(10, 20, kernel_size=5)\n",
    "        self.conv3 = BinarizeConv2d(20, 30, kernel_size=5)\n",
    "#         self.conv2_drop = nn.Dropout2d()\n",
    "        self.fc1 = nn.Linear(480, 50)\n",
    "        self.fc2 = nn.Linear(50, 10)\n",
    "\n",
    "    def forward(self, x):\n",
    "        x = F.hardtanh(F.max_pool2d(self.conv1(x), 2))\n",
    "#         x = F.relu(F.max_pool2d(self.conv2_drop(self.conv2(x)), 2))\n",
    "        x = F.hardtanh(F.max_pool2d(self.conv2(x), 1))\n",
    "        x = F.hardtanh(F.max_pool2d(self.conv3(x), 1))\n",
    "        x = x.view(-1, 480)\n",
    "        x = F.hardtanh(self.fc1(x))\n",
    "#         x = F.dropout(x, training=self.training)\n",
    "        x = self.fc2(x)\n",
    "        return F.log_softmax(x, dim=1)"
   ]
  },
  {
   "cell_type": "code",
   "execution_count": 114,
   "metadata": {},
   "outputs": [],
   "source": [
    "def train(args, model, device, train_loader, optimizer, epoch):\n",
    "    model.train()\n",
    "    for batch_idx, (data, target) in enumerate(train_loader):\n",
    "        data, target = data.to(device), target.to(device)\n",
    "        optimizer.zero_grad()\n",
    "        output = model(data)\n",
    "        loss = F.nll_loss(output, target)\n",
    "        loss.backward()\n",
    "        optimizer.step()\n",
    "        if batch_idx % args[\"log_interval\"] == 0:\n",
    "            print('Train Epoch: {} [{}/{} ({:.0f}%)]\\tLoss: {:.6f}'.format(\n",
    "                epoch, batch_idx * len(data), len(train_loader.dataset),\n",
    "                100. * batch_idx / len(train_loader), loss.item()))\n",
    "\n",
    "def test(args, model, device, test_loader):\n",
    "    model.eval()\n",
    "    test_loss = 0\n",
    "    correct = 0\n",
    "    with torch.no_grad():\n",
    "        for data, target in test_loader:\n",
    "            data, target = data.to(device), target.to(device)\n",
    "            output = model(data)\n",
    "            test_loss += F.nll_loss(output, target, reduction='sum').item() # sum up batch loss\n",
    "            pred = output.max(1, keepdim=True)[1] # get the index of the max log-probability\n",
    "            correct += pred.eq(target.view_as(pred)).sum().item()\n",
    "\n",
    "    test_loss /= len(test_loader.dataset)\n",
    "    print('\\nTest set: Average loss: {:.4f}, Accuracy: {}/{} ({:.0f}%)\\n'.format(\n",
    "        test_loss, correct, len(test_loader.dataset),\n",
    "        100. * correct / len(test_loader.dataset)))\n",
    "\n"
   ]
  },
  {
   "cell_type": "code",
   "execution_count": 115,
   "metadata": {},
   "outputs": [
    {
     "name": "stdout",
     "output_type": "stream",
     "text": [
      "Train Epoch: 1 [0/60000 (0%)]\tLoss: 2.399937\n",
      "Train Epoch: 1 [5120/60000 (8%)]\tLoss: 2.212451\n",
      "Train Epoch: 1 [10240/60000 (17%)]\tLoss: 2.030643\n",
      "Train Epoch: 1 [15360/60000 (25%)]\tLoss: 1.857377\n",
      "Train Epoch: 1 [20480/60000 (34%)]\tLoss: 1.753018\n",
      "Train Epoch: 1 [25600/60000 (42%)]\tLoss: 1.610895\n",
      "Train Epoch: 1 [30720/60000 (51%)]\tLoss: 1.517119\n",
      "Train Epoch: 1 [35840/60000 (59%)]\tLoss: 1.462044\n",
      "Train Epoch: 1 [40960/60000 (68%)]\tLoss: 1.384799\n",
      "Train Epoch: 1 [46080/60000 (76%)]\tLoss: 1.259014\n",
      "Train Epoch: 1 [51200/60000 (85%)]\tLoss: 1.246261\n",
      "Train Epoch: 1 [56320/60000 (93%)]\tLoss: 1.255607\n",
      "\n",
      "Test set: Average loss: 1.1244, Accuracy: 7349/10000 (73%)\n",
      "\n"
     ]
    }
   ],
   "source": [
    "args = {\n",
    "    \"batch_size\": 512,\n",
    "    \"test_batch_size\": 4096,\n",
    "    \"epochs\": 1,\n",
    "    \"lr\":0.01,\n",
    "    \"momentum\": 0.5,\n",
    "    \"no_cuda\": False,\n",
    "    \"seed\": 1,\n",
    "    \"log_interval\": 10\n",
    "}\n",
    "    # Training settings\n",
    "\n",
    "use_cuda = not args[\"no_cuda\"] and torch.cuda.is_available()\n",
    "\n",
    "torch.manual_seed(args[\"seed\"])\n",
    "\n",
    "device = torch.device(\"cuda\" if use_cuda else \"cpu\")\n",
    "\n",
    "kwargs = {'num_workers': 1, 'pin_memory': True} if use_cuda else {}\n",
    "train_loader = torch.utils.data.DataLoader(\n",
    "    datasets.MNIST('../data', train=True, download=True,\n",
    "                   transform=transforms.Compose([\n",
    "                       transforms.ToTensor(),\n",
    "                       transforms.Normalize((0.1307,), (0.3081,))\n",
    "                   ])),\n",
    "    batch_size=args[\"batch_size\"], shuffle=True, **kwargs)\n",
    "test_loader = torch.utils.data.DataLoader(\n",
    "    datasets.MNIST('../data', train=False, transform=transforms.Compose([\n",
    "                       transforms.ToTensor(),\n",
    "                       transforms.Normalize((0.1307,), (0.3081,))\n",
    "                   ])),\n",
    "    batch_size=args[\"test_batch_size\"], shuffle=True, **kwargs)\n",
    "\n",
    "\n",
    "model = Net().to(device)\n",
    "optimizer = optim.SGD(model.parameters(), lr=args[\"lr\"], momentum=args[\"momentum\"])\n",
    "\n",
    "for epoch in range(1, args[\"epochs\"] + 1):\n",
    "    train(args, model, device, train_loader, optimizer, epoch)\n",
    "    test(args, model, device, test_loader)"
   ]
  },
  {
   "cell_type": "code",
   "execution_count": 117,
   "metadata": {},
   "outputs": [
    {
     "data": {
      "text/plain": [
       "Parameter containing:\n",
       "tensor([ 1., -1.,  1.,  1.,  1., -1.,  1.,  1., -1., -1.], requires_grad=True)"
      ]
     },
     "execution_count": 117,
     "metadata": {},
     "output_type": "execute_result"
    }
   ],
   "source": [
    "model.conv1.bias"
   ]
  },
  {
   "cell_type": "code",
   "execution_count": 111,
   "metadata": {},
   "outputs": [
    {
     "name": "stdout",
     "output_type": "stream",
     "text": [
      "Net(\n",
      "  (conv1): BinarizeConv2d(1, 10, kernel_size=(5, 5), stride=(1, 1))\n",
      "  (conv2): BinarizeConv2d(10, 20, kernel_size=(5, 5), stride=(1, 1))\n",
      "  (conv3): BinarizeConv2d(20, 30, kernel_size=(5, 5), stride=(1, 1))\n",
      "  (fc1): Linear(in_features=480, out_features=50, bias=True)\n",
      "  (fc2): Linear(in_features=50, out_features=10, bias=True)\n",
      ")\n"
     ]
    }
   ],
   "source": [
    "print(model)"
   ]
  },
  {
   "cell_type": "code",
   "execution_count": 101,
   "metadata": {},
   "outputs": [
    {
     "name": "stdout",
     "output_type": "stream",
     "text": [
      "torch.Size([1, 10, 12, 12])\n",
      "torch.Size([1, 20, 8, 8])\n",
      "torch.Size([1, 30, 4, 4])\n"
     ]
    }
   ],
   "source": [
    "model = Net().to(device)\n",
    "x = model.conv1(torch.randn(1,1,28,28))\n",
    "# print(x.shape)\n",
    "# x = model.conv2(x)\n",
    "# print(x.shape)\n",
    "# # print(x.view(-1, 320).shape)\n",
    "# x = model.conv3(x)\n",
    "# print(x.shape)\n",
    "# F.max_pool2d(x, 1).shape\n",
    "x=torch.randn(1,1,28,28)\n",
    "x = F.hardtanh(F.max_pool2d(model.conv1(x), 2))\n",
    "print(x.shape)\n",
    "x = F.hardtanh(F.max_pool2d(model.conv2(x), 1))\n",
    "print(x.shape)\n",
    "x = F.hardtanh(F.max_pool2d(model.conv3(x), 1))\n",
    "print(x.shape)"
   ]
  },
  {
   "cell_type": "code",
   "execution_count": 74,
   "metadata": {},
   "outputs": [
    {
     "data": {
      "text/plain": [
       "torch.Size([10, 1, 5, 5])"
      ]
     },
     "execution_count": 74,
     "metadata": {},
     "output_type": "execute_result"
    }
   ],
   "source": [
    "binConv.weight.shape"
   ]
  },
  {
   "cell_type": "code",
   "execution_count": 63,
   "metadata": {},
   "outputs": [
    {
     "name": "stdout",
     "output_type": "stream",
     "text": [
      "torch.Size([512, 1, 28, 28])\n"
     ]
    }
   ],
   "source": [
    "for data, _ in train_loader:\n",
    "    print(data.shape)\n",
    "    break"
   ]
  },
  {
   "cell_type": "markdown",
   "metadata": {},
   "source": [
    " - When both conv and FC layers are binary learning is not happening. Maybe the model is not rich enough??\n",
    " - Conv layers are computaionally expensive, so let us replace on;ly conv layers with binary conv layers.\n",
    " - When all conv layers are replaced by binary conv layers with one epoch drop from 79% to 75% accuracy\n",
    " \n",
    " normal conv:\n",
    "Net(\n",
    "  (conv1): Conv2d(1, 10, kernel_size=(5, 5), stride=(1, 1))\n",
    "  (conv2): Conv2d(10, 20, kernel_size=(5, 5), stride=(1, 1))\n",
    "  (conv3): Conv2d(20, 30, kernel_size=(5, 5), stride=(1, 1))\n",
    "  (fc1): Linear(in_features=480, out_features=50, bias=True)\n",
    "  (fc2): Linear(in_features=50, out_features=10, bias=True)\n",
    ")\n",
    "\n",
    "binary comv:\n",
    "Net(\n",
    "  (conv1): BinarizeConv2d(1, 10, kernel_size=(5, 5), stride=(1, 1))\n",
    "  (conv2): BinarizeConv2d(10, 20, kernel_size=(5, 5), stride=(1, 1))\n",
    "  (conv3): BinarizeConv2d(20, 30, kernel_size=(5, 5), stride=(1, 1))\n",
    "  (fc1): Linear(in_features=480, out_features=50, bias=True)\n",
    "  (fc2): Linear(in_features=50, out_features=10, bias=True)\n",
    ")\n"
   ]
  },
  {
   "cell_type": "code",
   "execution_count": null,
   "metadata": {},
   "outputs": [],
   "source": []
  }
 ],
 "metadata": {
  "kernelspec": {
   "display_name": "Python (GPUReady)",
   "language": "python",
   "name": "gpuready"
  },
  "language_info": {
   "codemirror_mode": {
    "name": "ipython",
    "version": 3
   },
   "file_extension": ".py",
   "mimetype": "text/x-python",
   "name": "python",
   "nbconvert_exporter": "python",
   "pygments_lexer": "ipython3",
   "version": "3.6.4"
  }
 },
 "nbformat": 4,
 "nbformat_minor": 2
}
