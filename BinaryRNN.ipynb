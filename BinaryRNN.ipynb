{
 "cells": [
  {
   "cell_type": "code",
   "execution_count": 1,
   "metadata": {},
   "outputs": [],
   "source": [
    "import torch\n",
    "from torch import nn\n",
    "import torchvision.datasets as dsets\n",
    "import torchvision.transforms as transforms\n",
    "import matplotlib.pyplot as plt"
   ]
  },
  {
   "cell_type": "code",
   "execution_count": 2,
   "metadata": {},
   "outputs": [],
   "source": [
    "# torch.manual_seed(1)    # reproducible\n",
    "\n",
    "# Hyper Parameters\n",
    "EPOCH = 10               # train the training data n times, to save time, we just train 1 epoch\n",
    "BATCH_SIZE = 64\n",
    "TIME_STEP = 28          # rnn time step / image height\n",
    "INPUT_SIZE = 28         # rnn input size / image width\n",
    "LR = 0.01               # learning rate\n",
    "DOWNLOAD_MNIST = True   # set to True if haven't download the data"
   ]
  },
  {
   "cell_type": "code",
   "execution_count": 3,
   "metadata": {},
   "outputs": [],
   "source": [
    "# Mnist digital dataset\n",
    "train_data = dsets.MNIST(\n",
    "    root='./mnist/',\n",
    "    train=True,                         # this is training data\n",
    "    transform=transforms.ToTensor(),    # Converts a PIL.Image or numpy.ndarray to\n",
    "                                        # torch.FloatTensor of shape (C x H x W) and normalize in the range [0.0, 1.0]\n",
    "    download=DOWNLOAD_MNIST,            # download it if you don't have it\n",
    ")"
   ]
  },
  {
   "cell_type": "code",
   "execution_count": 4,
   "metadata": {},
   "outputs": [
    {
     "name": "stdout",
     "output_type": "stream",
     "text": [
      "torch.Size([60000, 28, 28])\n",
      "torch.Size([60000])\n"
     ]
    },
    {
     "data": {
      "image/png": "[encoded data removed]",
      "text/plain": [
       "<matplotlib.figure.Figure at 0x7f22239b1940>"
      ]
     },
     "metadata": {},
     "output_type": "display_data"
    }
   ],
   "source": [
    "# plot one example\n",
    "print(train_data.train_data.size())     # (60000, 28, 28)\n",
    "print(train_data.train_labels.size())   # (60000)\n",
    "plt.imshow(train_data.train_data[0].numpy(), cmap='gray')\n",
    "plt.title('%i' % train_data.train_labels[0])\n",
    "plt.show()"
   ]
  },
  {
   "cell_type": "code",
   "execution_count": 5,
   "metadata": {},
   "outputs": [],
   "source": [
    "# Data Loader for easy mini-batch return in training\n",
    "train_loader = torch.utils.data.DataLoader(dataset=train_data, batch_size=BATCH_SIZE, shuffle=True)\n",
    "\n",
    "# convert test data into Variable, pick 2000 samples to speed up testing\n",
    "test_data = dsets.MNIST(root='./mnist/', train=False, transform=transforms.ToTensor())\n",
    "test_x = test_data.test_data.type(torch.FloatTensor)[:2000]/255.   # shape (2000, 28, 28) value in range(0,1)\n",
    "test_y = test_data.test_labels.numpy().squeeze()[:2000]    # covert to numpy array"
   ]
  },
  {
   "cell_type": "code",
   "execution_count": 6,
   "metadata": {},
   "outputs": [],
   "source": [
    "def Binarize(tensor,quant_mode='det'):\n",
    "    if quant_mode=='det':\n",
    "        return tensor.sign()\n",
    "    else:\n",
    "        return tensor.add_(1).div_(2).add_(torch.rand(tensor.size()).add(-0.5)).clamp_(0,1).round().mul_(2).add_(-1)\n",
    "\n",
    "class BinarizeLinear(nn.Linear):\n",
    "\n",
    "    def __init__(self, *kargs, **kwargs):\n",
    "        try:\n",
    "            self.exempt = kwargs[\"exempt\"]\n",
    "            del kwargs[\"exempt\"]\n",
    "        except:\n",
    "            self.exempt=False\n",
    "        self.exempt=False\n",
    "        super(BinarizeLinear, self).__init__(*kargs, **kwargs)\n",
    "        \n",
    "\n",
    "    def forward(self, input):\n",
    "        if self.exempt:\n",
    "#         if input.size(1) != self.excempt:\n",
    "            input.data=Binarize(input.data)\n",
    "        if not hasattr(self.weight,'org'):\n",
    "            self.weight.org=self.weight.data.clone()\n",
    "        self.weight.data=Binarize(self.weight.org)\n",
    "#         print(self.weight.shape)\n",
    "        out = nn.functional.linear(input, self.weight)\n",
    "        if not self.bias is None:\n",
    "            self.bias.org=self.bias.data.clone()\n",
    "            out += self.bias.view(1, -1).expand_as(out)\n",
    "\n",
    "        return out"
   ]
  },
  {
   "cell_type": "code",
   "execution_count": 7,
   "metadata": {},
   "outputs": [],
   "source": [
    "class RNN(nn.Module):\n",
    "    def __init__(self):\n",
    "        super(RNN, self).__init__()\n",
    "\n",
    "        self.rnn = nn.LSTM(         # if use nn.RNN(), it hardly learns\n",
    "            input_size=INPUT_SIZE,\n",
    "            hidden_size=64,         # rnn hidden unit\n",
    "            num_layers=1,           # number of rnn layer\n",
    "            batch_first=True,       # input & output will has batch size as 1s dimension. e.g. (batch, time_step, input_size)\n",
    "        )\n",
    "\n",
    "#         self.out = nn.Linear(64, 10)\n",
    "        self.out = BinarizeLinear(64, 10, exempt=True)\n",
    "\n",
    "    def forward(self, x):\n",
    "        # x shape (batch, time_step, input_size)\n",
    "        # r_out shape (batch, time_step, output_size)\n",
    "        # h_n shape (n_layers, batch, hidden_size)\n",
    "        # h_c shape (n_layers, batch, hidden_size)\n",
    "        r_out, (h_n, h_c) = self.rnn(x, None)   # None represents zero initial hidden state\n",
    "\n",
    "        # choose r_out at the last time step\n",
    "        out = self.out(r_out[:, -1, :])\n",
    "        return out"
   ]
  },
  {
   "cell_type": "code",
   "execution_count": 8,
   "metadata": {},
   "outputs": [
    {
     "name": "stdout",
     "output_type": "stream",
     "text": [
      "RNN(\n",
      "  (rnn): LSTM(28, 64, batch_first=True)\n",
      "  (out): BinarizeLinear(in_features=64, out_features=10, bias=True)\n",
      ")\n"
     ]
    }
   ],
   "source": [
    "rnn = RNN()\n",
    "print(rnn)"
   ]
  },
  {
   "cell_type": "code",
   "execution_count": 9,
   "metadata": {},
   "outputs": [],
   "source": [
    "optimizer = torch.optim.Adam(rnn.parameters(), lr=LR)   # optimize all cnn parameters\n",
    "loss_func = nn.CrossEntropyLoss()                       # the target label is not one-hotted"
   ]
  },
  {
   "cell_type": "code",
   "execution_count": 10,
   "metadata": {},
   "outputs": [
    {
     "name": "stdout",
     "output_type": "stream",
     "text": [
      "Epoch:  0 | train loss: 2.5447 | test accuracy: 0.10\n",
      "Epoch:  0 | train loss: 0.9142 | test accuracy: 0.66\n",
      "Epoch:  0 | train loss: 0.6008 | test accuracy: 0.78\n",
      "Epoch:  0 | train loss: 0.3926 | test accuracy: 0.84\n",
      "Epoch:  0 | train loss: 0.4465 | test accuracy: 0.87\n",
      "Epoch:  0 | train loss: 0.2501 | test accuracy: 0.90\n",
      "Epoch:  0 | train loss: 0.2560 | test accuracy: 0.90\n",
      "Epoch:  0 | train loss: 0.2144 | test accuracy: 0.91\n",
      "Epoch:  0 | train loss: 0.1040 | test accuracy: 0.93\n",
      "Epoch:  0 | train loss: 0.0906 | test accuracy: 0.95\n",
      "Epoch:  0 | train loss: 0.3063 | test accuracy: 0.92\n",
      "Epoch:  0 | train loss: 0.1585 | test accuracy: 0.95\n",
      "Epoch:  0 | train loss: 0.0809 | test accuracy: 0.95\n",
      "Epoch:  0 | train loss: 0.1120 | test accuracy: 0.95\n",
      "Epoch:  0 | train loss: 0.2565 | test accuracy: 0.94\n",
      "Epoch:  0 | train loss: 0.1042 | test accuracy: 0.95\n",
      "Epoch:  0 | train loss: 0.0724 | test accuracy: 0.95\n",
      "Epoch:  0 | train loss: 0.0354 | test accuracy: 0.96\n",
      "Epoch:  0 | train loss: 0.1685 | test accuracy: 0.96\n",
      "Epoch:  1 | train loss: 0.1682 | test accuracy: 0.95\n",
      "Epoch:  1 | train loss: 0.0597 | test accuracy: 0.95\n",
      "Epoch:  1 | train loss: 0.0178 | test accuracy: 0.96\n",
      "Epoch:  1 | train loss: 0.0424 | test accuracy: 0.95\n",
      "Epoch:  1 | train loss: 0.1807 | test accuracy: 0.97\n",
      "Epoch:  1 | train loss: 0.0129 | test accuracy: 0.97\n",
      "Epoch:  1 | train loss: 0.1051 | test accuracy: 0.95\n",
      "Epoch:  1 | train loss: 0.0270 | test accuracy: 0.97\n",
      "Epoch:  1 | train loss: 0.1328 | test accuracy: 0.96\n",
      "Epoch:  1 | train loss: 0.1998 | test accuracy: 0.95\n",
      "Epoch:  1 | train loss: 0.2043 | test accuracy: 0.97\n",
      "Epoch:  1 | train loss: 0.1517 | test accuracy: 0.97\n",
      "Epoch:  1 | train loss: 0.0483 | test accuracy: 0.96\n",
      "Epoch:  1 | train loss: 0.0153 | test accuracy: 0.95\n",
      "Epoch:  1 | train loss: 0.1107 | test accuracy: 0.96\n",
      "Epoch:  1 | train loss: 0.0664 | test accuracy: 0.96\n",
      "Epoch:  1 | train loss: 0.1760 | test accuracy: 0.97\n",
      "Epoch:  1 | train loss: 0.3320 | test accuracy: 0.96\n",
      "Epoch:  1 | train loss: 0.0864 | test accuracy: 0.98\n",
      "Epoch:  2 | train loss: 0.1788 | test accuracy: 0.97\n",
      "Epoch:  2 | train loss: 0.1060 | test accuracy: 0.97\n",
      "Epoch:  2 | train loss: 0.0843 | test accuracy: 0.97\n",
      "Epoch:  2 | train loss: 0.0731 | test accuracy: 0.97\n",
      "Epoch:  2 | train loss: 0.1480 | test accuracy: 0.97\n",
      "Epoch:  2 | train loss: 0.0904 | test accuracy: 0.96\n",
      "Epoch:  2 | train loss: 0.0366 | test accuracy: 0.97\n",
      "Epoch:  2 | train loss: 0.0296 | test accuracy: 0.97\n",
      "Epoch:  2 | train loss: 0.0807 | test accuracy: 0.97\n",
      "Epoch:  2 | train loss: 0.1178 | test accuracy: 0.96\n",
      "Epoch:  2 | train loss: 0.0474 | test accuracy: 0.97\n",
      "Epoch:  2 | train loss: 0.0710 | test accuracy: 0.97\n",
      "Epoch:  2 | train loss: 0.0189 | test accuracy: 0.97\n",
      "Epoch:  2 | train loss: 0.0202 | test accuracy: 0.96\n",
      "Epoch:  2 | train loss: 0.2179 | test accuracy: 0.97\n",
      "Epoch:  2 | train loss: 0.0542 | test accuracy: 0.96\n",
      "Epoch:  2 | train loss: 0.0727 | test accuracy: 0.96\n",
      "Epoch:  2 | train loss: 0.0954 | test accuracy: 0.97\n",
      "Epoch:  2 | train loss: 0.0878 | test accuracy: 0.96\n",
      "Epoch:  3 | train loss: 0.1077 | test accuracy: 0.96\n",
      "Epoch:  3 | train loss: 0.0307 | test accuracy: 0.96\n",
      "Epoch:  3 | train loss: 0.1514 | test accuracy: 0.97\n",
      "Epoch:  3 | train loss: 0.0366 | test accuracy: 0.97\n",
      "Epoch:  3 | train loss: 0.1814 | test accuracy: 0.96\n",
      "Epoch:  3 | train loss: 0.1614 | test accuracy: 0.97\n",
      "Epoch:  3 | train loss: 0.0549 | test accuracy: 0.97\n",
      "Epoch:  3 | train loss: 0.0193 | test accuracy: 0.97\n",
      "Epoch:  3 | train loss: 0.0297 | test accuracy: 0.97\n",
      "Epoch:  3 | train loss: 0.0215 | test accuracy: 0.96\n",
      "Epoch:  3 | train loss: 0.1726 | test accuracy: 0.97\n",
      "Epoch:  3 | train loss: 0.1024 | test accuracy: 0.98\n",
      "Epoch:  3 | train loss: 0.1106 | test accuracy: 0.97\n",
      "Epoch:  3 | train loss: 0.0737 | test accuracy: 0.97\n",
      "Epoch:  3 | train loss: 0.0204 | test accuracy: 0.97\n",
      "Epoch:  3 | train loss: 0.0126 | test accuracy: 0.96\n",
      "Epoch:  3 | train loss: 0.1073 | test accuracy: 0.97\n",
      "Epoch:  3 | train loss: 0.0032 | test accuracy: 0.97\n",
      "Epoch:  3 | train loss: 0.0540 | test accuracy: 0.97\n"
     ]
    },
    {
     "ename": "KeyboardInterrupt",
     "evalue": "",
     "output_type": "error",
     "traceback": [
      "\u001b[0;31m---------------------------------------------------------------------------\u001b[0m",
      "\u001b[0;31mKeyboardInterrupt\u001b[0m                         Traceback (most recent call last)",
      "\u001b[0;32m<ipython-input-10-506ce91f7b20>\u001b[0m in \u001b[0;36m<module>\u001b[0;34m()\u001b[0m\n\u001b[1;32m      7\u001b[0m         \u001b[0mloss\u001b[0m \u001b[0;34m=\u001b[0m \u001b[0mloss_func\u001b[0m\u001b[0;34m(\u001b[0m\u001b[0moutput\u001b[0m\u001b[0;34m,\u001b[0m \u001b[0mb_y\u001b[0m\u001b[0;34m)\u001b[0m                   \u001b[0;31m# cross entropy loss\u001b[0m\u001b[0;34m\u001b[0m\u001b[0m\n\u001b[1;32m      8\u001b[0m         \u001b[0moptimizer\u001b[0m\u001b[0;34m.\u001b[0m\u001b[0mzero_grad\u001b[0m\u001b[0;34m(\u001b[0m\u001b[0;34m)\u001b[0m                           \u001b[0;31m# clear gradients for this training step\u001b[0m\u001b[0;34m\u001b[0m\u001b[0m\n\u001b[0;32m----> 9\u001b[0;31m         \u001b[0mloss\u001b[0m\u001b[0;34m.\u001b[0m\u001b[0mbackward\u001b[0m\u001b[0;34m(\u001b[0m\u001b[0;34m)\u001b[0m                                 \u001b[0;31m# backpropagation, compute gradients\u001b[0m\u001b[0;34m\u001b[0m\u001b[0m\n\u001b[0m\u001b[1;32m     10\u001b[0m         \u001b[0moptimizer\u001b[0m\u001b[0;34m.\u001b[0m\u001b[0mstep\u001b[0m\u001b[0;34m(\u001b[0m\u001b[0;34m)\u001b[0m                                \u001b[0;31m# apply gradients\u001b[0m\u001b[0;34m\u001b[0m\u001b[0m\n\u001b[1;32m     11\u001b[0m \u001b[0;34m\u001b[0m\u001b[0m\n",
      "\u001b[0;32m~/anaconda3/envs/GPUReady/lib/python3.6/site-packages/torch/tensor.py\u001b[0m in \u001b[0;36mbackward\u001b[0;34m(self, gradient, retain_graph, create_graph)\u001b[0m\n\u001b[1;32m     91\u001b[0m                 \u001b[0mproducts\u001b[0m\u001b[0;34m.\u001b[0m \u001b[0mDefaults\u001b[0m \u001b[0mto\u001b[0m\u001b[0;31m \u001b[0m\u001b[0;31m`\u001b[0m\u001b[0;31m`\u001b[0m\u001b[0;32mFalse\u001b[0m\u001b[0;31m`\u001b[0m\u001b[0;31m`\u001b[0m\u001b[0;34m.\u001b[0m\u001b[0;34m\u001b[0m\u001b[0m\n\u001b[1;32m     92\u001b[0m         \"\"\"\n\u001b[0;32m---> 93\u001b[0;31m         \u001b[0mtorch\u001b[0m\u001b[0;34m.\u001b[0m\u001b[0mautograd\u001b[0m\u001b[0;34m.\u001b[0m\u001b[0mbackward\u001b[0m\u001b[0;34m(\u001b[0m\u001b[0mself\u001b[0m\u001b[0;34m,\u001b[0m \u001b[0mgradient\u001b[0m\u001b[0;34m,\u001b[0m \u001b[0mretain_graph\u001b[0m\u001b[0;34m,\u001b[0m \u001b[0mcreate_graph\u001b[0m\u001b[0;34m)\u001b[0m\u001b[0;34m\u001b[0m\u001b[0m\n\u001b[0m\u001b[1;32m     94\u001b[0m \u001b[0;34m\u001b[0m\u001b[0m\n\u001b[1;32m     95\u001b[0m     \u001b[0;32mdef\u001b[0m \u001b[0mregister_hook\u001b[0m\u001b[0;34m(\u001b[0m\u001b[0mself\u001b[0m\u001b[0;34m,\u001b[0m \u001b[0mhook\u001b[0m\u001b[0;34m)\u001b[0m\u001b[0;34m:\u001b[0m\u001b[0;34m\u001b[0m\u001b[0m\n",
      "\u001b[0;32m~/anaconda3/envs/GPUReady/lib/python3.6/site-packages/torch/autograd/__init__.py\u001b[0m in \u001b[0;36mbackward\u001b[0;34m(tensors, grad_tensors, retain_graph, create_graph, grad_variables)\u001b[0m\n\u001b[1;32m     88\u001b[0m     Variable._execution_engine.run_backward(\n\u001b[1;32m     89\u001b[0m         \u001b[0mtensors\u001b[0m\u001b[0;34m,\u001b[0m \u001b[0mgrad_tensors\u001b[0m\u001b[0;34m,\u001b[0m \u001b[0mretain_graph\u001b[0m\u001b[0;34m,\u001b[0m \u001b[0mcreate_graph\u001b[0m\u001b[0;34m,\u001b[0m\u001b[0;34m\u001b[0m\u001b[0m\n\u001b[0;32m---> 90\u001b[0;31m         allow_unreachable=True)  # allow_unreachable flag\n\u001b[0m\u001b[1;32m     91\u001b[0m \u001b[0;34m\u001b[0m\u001b[0m\n\u001b[1;32m     92\u001b[0m \u001b[0;34m\u001b[0m\u001b[0m\n",
      "\u001b[0;31mKeyboardInterrupt\u001b[0m: "
     ]
    }
   ],
   "source": [
    "# training and testing\n",
    "for epoch in range(EPOCH):\n",
    "    for step, (b_x, b_y) in enumerate(train_loader):        # gives batch data\n",
    "        b_x = b_x.view(-1, 28, 28)              # reshape x to (batch, time_step, input_size)\n",
    "\n",
    "        output = rnn(b_x)                               # rnn output\n",
    "        loss = loss_func(output, b_y)                   # cross entropy loss\n",
    "        optimizer.zero_grad()                           # clear gradients for this training step\n",
    "        loss.backward()                                 # backpropagation, compute gradients\n",
    "        optimizer.step()                                # apply gradients\n",
    "\n",
    "        if step % 50 == 0:\n",
    "            test_output = rnn(test_x)                   # (samples, time_step, input_size)\n",
    "            pred_y = torch.max(test_output, 1)[1].data.numpy().squeeze()\n",
    "            accuracy = float((pred_y == test_y).astype(int).sum()) / float(test_y.size)\n",
    "            print('Epoch: ', epoch, '| train loss: %.4f' % loss.data.numpy(), '| test accuracy: %.2f' % accuracy)\n",
    "\n",
    "# print 10 predictions from test data\n",
    "test_output = rnn(test_x[:10].view(-1, 28, 28))\n",
    "pred_y = torch.max(test_output, 1)[1].data.numpy().squeeze()\n",
    "print(pred_y, 'prediction number')\n",
    "print(test_y[:10], 'real number')"
   ]
  },
  {
   "cell_type": "code",
   "execution_count": 13,
   "metadata": {},
   "outputs": [
    {
     "data": {
      "text/plain": [
       "Parameter containing:\n",
       "tensor([[ 1., -1., -1.,  1., -1.,  1.,  1., -1., -1., -1., -1., -1., -1.,  1.,\n",
       "         -1., -1.,  1., -1., -1., -1., -1.,  1.,  1., -1.,  1.,  1.,  1.,  1.,\n",
       "          1., -1., -1., -1., -1.,  1., -1.,  1., -1., -1., -1., -1.,  1., -1.,\n",
       "          1.,  1.,  1., -1., -1., -1., -1., -1., -1.,  1.,  1., -1.,  1.,  1.,\n",
       "          1.,  1., -1.,  1., -1., -1., -1., -1.],\n",
       "        [ 1., -1.,  1., -1.,  1., -1.,  1.,  1.,  1.,  1., -1.,  1.,  1., -1.,\n",
       "         -1., -1.,  1.,  1., -1., -1.,  1.,  1.,  1., -1., -1., -1.,  1., -1.,\n",
       "         -1., -1., -1.,  1.,  1., -1.,  1.,  1., -1.,  1.,  1.,  1.,  1., -1.,\n",
       "          1.,  1., -1., -1.,  1.,  1.,  1.,  1.,  1.,  1., -1.,  1., -1.,  1.,\n",
       "         -1.,  1., -1.,  1., -1.,  1., -1., -1.],\n",
       "        [-1.,  1.,  1.,  1.,  1.,  1., -1.,  1.,  1., -1.,  1.,  1., -1.,  1.,\n",
       "          1., -1.,  1.,  1.,  1.,  1., -1., -1.,  1.,  1., -1., -1., -1., -1.,\n",
       "          1.,  1.,  1.,  1.,  1.,  1.,  1., -1., -1., -1., -1., -1., -1., -1.,\n",
       "          1., -1.,  1., -1.,  1., -1.,  1., -1., -1.,  1.,  1.,  1., -1.,  1.,\n",
       "         -1., -1.,  1., -1., -1., -1., -1.,  1.],\n",
       "        [-1., -1.,  1., -1., -1., -1., -1.,  1.,  1., -1., -1., -1.,  1., -1.,\n",
       "          1., -1., -1., -1., -1., -1., -1., -1., -1.,  1.,  1.,  1.,  1.,  1.,\n",
       "          1.,  1.,  1., -1.,  1., -1., -1., -1.,  1.,  1.,  1.,  1.,  1., -1.,\n",
       "         -1., -1., -1.,  1., -1.,  1., -1., -1., -1.,  1., -1.,  1.,  1.,  1.,\n",
       "         -1.,  1.,  1., -1.,  1.,  1.,  1., -1.],\n",
       "        [-1.,  1., -1., -1., -1., -1.,  1.,  1., -1., -1.,  1.,  1.,  1.,  1.,\n",
       "          1.,  1., -1., -1., -1., -1., -1.,  1.,  1., -1.,  1., -1., -1., -1.,\n",
       "         -1.,  1., -1., -1., -1., -1.,  1., -1.,  1., -1., -1.,  1., -1., -1.,\n",
       "         -1.,  1.,  1., -1., -1.,  1., -1.,  1., -1.,  1.,  1., -1.,  1.,  1.,\n",
       "          1., -1., -1.,  1., -1., -1., -1.,  1.],\n",
       "        [ 1., -1., -1., -1.,  1., -1., -1., -1., -1., -1.,  1.,  1., -1.,  1.,\n",
       "          1.,  1.,  1.,  1., -1., -1., -1.,  1., -1., -1., -1., -1., -1., -1.,\n",
       "         -1.,  1.,  1.,  1., -1.,  1.,  1.,  1., -1., -1., -1., -1., -1.,  1.,\n",
       "          1., -1.,  1., -1., -1., -1., -1., -1., -1.,  1.,  1., -1.,  1.,  1.,\n",
       "         -1.,  1.,  1.,  1.,  1.,  1.,  1.,  1.],\n",
       "        [-1.,  1., -1.,  1.,  1., -1.,  1.,  1.,  1.,  1., -1.,  1.,  1., -1.,\n",
       "         -1.,  1.,  1., -1., -1.,  1., -1.,  1., -1.,  1., -1.,  1.,  1.,  1.,\n",
       "          1., -1.,  1.,  1.,  1., -1., -1.,  1.,  1.,  1.,  1.,  1., -1., -1.,\n",
       "          1.,  1.,  1.,  1., -1., -1., -1.,  1., -1., -1.,  1.,  1., -1.,  1.,\n",
       "          1.,  1.,  1.,  1.,  1., -1.,  1.,  1.],\n",
       "        [-1.,  1.,  1., -1., -1.,  1.,  1.,  1.,  1.,  1.,  1.,  1., -1., -1.,\n",
       "          1.,  1., -1., -1.,  1.,  1., -1., -1., -1.,  1., -1., -1.,  1., -1.,\n",
       "         -1., -1.,  1., -1., -1., -1.,  1., -1., -1.,  1.,  1.,  1., -1., -1.,\n",
       "         -1.,  1., -1.,  1.,  1.,  1.,  1., -1.,  1., -1., -1.,  1.,  1., -1.,\n",
       "         -1., -1., -1.,  1., -1.,  1., -1., -1.],\n",
       "        [-1., -1.,  1., -1.,  1.,  1.,  1.,  1., -1.,  1.,  1.,  1., -1.,  1.,\n",
       "         -1., -1., -1., -1., -1.,  1., -1., -1.,  1.,  1., -1.,  1., -1., -1.,\n",
       "          1.,  1.,  1., -1., -1., -1., -1., -1., -1.,  1., -1., -1., -1., -1.,\n",
       "         -1., -1.,  1.,  1., -1., -1.,  1., -1., -1., -1., -1.,  1., -1., -1.,\n",
       "          1.,  1., -1.,  1., -1.,  1.,  1.,  1.],\n",
       "        [-1., -1.,  1., -1., -1.,  1., -1.,  1.,  1., -1.,  1.,  1.,  1., -1.,\n",
       "         -1.,  1., -1., -1.,  1., -1.,  1., -1., -1.,  1.,  1.,  1., -1.,  1.,\n",
       "         -1., -1.,  1., -1.,  1., -1.,  1.,  1.,  1.,  1.,  1.,  1.,  1.,  1.,\n",
       "          1., -1.,  1.,  1.,  1.,  1., -1.,  1., -1., -1., -1.,  1.,  1., -1.,\n",
       "         -1., -1., -1.,  1.,  1., -1., -1., -1.]], requires_grad=True)"
      ]
     },
     "execution_count": 13,
     "metadata": {},
     "output_type": "execute_result"
    }
   ],
   "source": [
    "rnn.out.weight"
   ]
  },
  {
   "cell_type": "code",
   "execution_count": null,
   "metadata": {},
   "outputs": [],
   "source": []
  }
 ],
 "metadata": {
  "kernelspec": {
   "display_name": "Python (GPUReady)",
   "language": "python",
   "name": "gpuready"
  },
  "language_info": {
   "codemirror_mode": {
    "name": "ipython",
    "version": 3
   },
   "file_extension": ".py",
   "mimetype": "text/x-python",
   "name": "python",
   "nbconvert_exporter": "python",
   "pygments_lexer": "ipython3",
   "version": "3.6.4"
  }
 },
 "nbformat": 4,
 "nbformat_minor": 2
}
