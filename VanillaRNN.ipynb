{
 "cells": [
  {
   "cell_type": "code",
   "execution_count": 1,
   "metadata": {},
   "outputs": [],
   "source": [
    "import torch\n",
    "from torch import nn\n",
    "import torchvision.datasets as dsets\n",
    "import torchvision.transforms as transforms\n",
    "import matplotlib.pyplot as plt"
   ]
  },
  {
   "cell_type": "code",
   "execution_count": 2,
   "metadata": {},
   "outputs": [],
   "source": [
    "# torch.manual_seed(1)    # reproducible\n",
    "\n",
    "# Hyper Parameters\n",
    "EPOCH = 10               # train the training data n times, to save time, we just train 1 epoch\n",
    "BATCH_SIZE = 64\n",
    "TIME_STEP = 28          # rnn time step / image height\n",
    "INPUT_SIZE = 28         # rnn input size / image width\n",
    "LR = 0.01               # learning rate\n",
    "DOWNLOAD_MNIST = True   # set to True if haven't download the data"
   ]
  },
  {
   "cell_type": "code",
   "execution_count": 3,
   "metadata": {},
   "outputs": [],
   "source": [
    "# Mnist digital dataset\n",
    "train_data = dsets.MNIST(\n",
    "    root='./mnist/',\n",
    "    train=True,                         # this is training data\n",
    "    transform=transforms.ToTensor(),    # Converts a PIL.Image or numpy.ndarray to\n",
    "                                        # torch.FloatTensor of shape (C x H x W) and normalize in the range [0.0, 1.0]\n",
    "    download=DOWNLOAD_MNIST,            # download it if you don't have it\n",
    ")"
   ]
  },
  {
   "cell_type": "code",
   "execution_count": 4,
   "metadata": {},
   "outputs": [
    {
     "name": "stdout",
     "output_type": "stream",
     "text": [
      "torch.Size([60000, 28, 28])\n",
      "torch.Size([60000])\n"
     ]
    },
    {
     "data": {
      "image/png": "[encoded data removed]",
      "text/plain": [
       "<matplotlib.figure.Figure at 0x7f0517634828>"
      ]
     },
     "metadata": {},
     "output_type": "display_data"
    }
   ],
   "source": [
    "# plot one example\n",
    "print(train_data.train_data.size())     # (60000, 28, 28)\n",
    "print(train_data.train_labels.size())   # (60000)\n",
    "plt.imshow(train_data.train_data[0].numpy(), cmap='gray')\n",
    "plt.title('%i' % train_data.train_labels[0])\n",
    "plt.show()"
   ]
  },
  {
   "cell_type": "code",
   "execution_count": 5,
   "metadata": {},
   "outputs": [],
   "source": [
    "# Data Loader for easy mini-batch return in training\n",
    "train_loader = torch.utils.data.DataLoader(dataset=train_data, batch_size=BATCH_SIZE, shuffle=True)\n",
    "\n",
    "# convert test data into Variable, pick 2000 samples to speed up testing\n",
    "test_data = dsets.MNIST(root='./mnist/', train=False, transform=transforms.ToTensor())\n",
    "test_x = test_data.test_data.type(torch.FloatTensor)[:2000]/255.   # shape (2000, 28, 28) value in range(0,1)\n",
    "test_y = test_data.test_labels.numpy().squeeze()[:2000]    # covert to numpy array"
   ]
  },
  {
   "cell_type": "code",
   "execution_count": 6,
   "metadata": {},
   "outputs": [],
   "source": [
    "class RNN(nn.Module):\n",
    "    def __init__(self):\n",
    "        super(RNN, self).__init__()\n",
    "\n",
    "        self.rnn = nn.LSTM(         # if use nn.RNN(), it hardly learns\n",
    "            input_size=INPUT_SIZE,\n",
    "            hidden_size=64,         # rnn hidden unit\n",
    "            num_layers=1,           # number of rnn layer\n",
    "            batch_first=True,       # input & output will has batch size as 1s dimension. e.g. (batch, time_step, input_size)\n",
    "        )\n",
    "\n",
    "        self.out = nn.Linear(64, 10)\n",
    "\n",
    "    def forward(self, x):\n",
    "        # x shape (batch, time_step, input_size)\n",
    "        # r_out shape (batch, time_step, output_size)\n",
    "        # h_n shape (n_layers, batch, hidden_size)\n",
    "        # h_c shape (n_layers, batch, hidden_size)\n",
    "        r_out, (h_n, h_c) = self.rnn(x, None)   # None represents zero initial hidden state\n",
    "\n",
    "        # choose r_out at the last time step\n",
    "        out = self.out(r_out[:, -1, :])\n",
    "        return out"
   ]
  },
  {
   "cell_type": "code",
   "execution_count": 7,
   "metadata": {},
   "outputs": [
    {
     "name": "stdout",
     "output_type": "stream",
     "text": [
      "RNN(\n",
      "  (rnn): LSTM(28, 64, batch_first=True)\n",
      "  (out): Linear(in_features=64, out_features=10, bias=True)\n",
      ")\n"
     ]
    }
   ],
   "source": [
    "rnn = RNN()\n",
    "print(rnn)"
   ]
  },
  {
   "cell_type": "code",
   "execution_count": 8,
   "metadata": {},
   "outputs": [],
   "source": [
    "optimizer = torch.optim.Adam(rnn.parameters(), lr=LR)   # optimize all cnn parameters\n",
    "loss_func = nn.CrossEntropyLoss()                       # the target label is not one-hotted"
   ]
  },
  {
   "cell_type": "code",
   "execution_count": 9,
   "metadata": {},
   "outputs": [
    {
     "name": "stdout",
     "output_type": "stream",
     "text": [
      "Epoch:  0 | train loss: 2.2983 | test accuracy: 0.12\n",
      "Epoch:  0 | train loss: 1.0339 | test accuracy: 0.62\n",
      "Epoch:  0 | train loss: 0.6460 | test accuracy: 0.73\n",
      "Epoch:  0 | train loss: 0.6973 | test accuracy: 0.79\n",
      "Epoch:  0 | train loss: 0.4847 | test accuracy: 0.83\n",
      "Epoch:  0 | train loss: 0.3174 | test accuracy: 0.89\n",
      "Epoch:  0 | train loss: 0.3220 | test accuracy: 0.91\n",
      "Epoch:  0 | train loss: 0.2334 | test accuracy: 0.89\n",
      "Epoch:  0 | train loss: 0.2366 | test accuracy: 0.92\n",
      "Epoch:  0 | train loss: 0.1906 | test accuracy: 0.93\n",
      "Epoch:  0 | train loss: 0.2320 | test accuracy: 0.94\n",
      "Epoch:  0 | train loss: 0.0950 | test accuracy: 0.94\n",
      "Epoch:  0 | train loss: 0.4261 | test accuracy: 0.95\n",
      "Epoch:  0 | train loss: 0.1857 | test accuracy: 0.94\n",
      "Epoch:  0 | train loss: 0.2306 | test accuracy: 0.94\n",
      "Epoch:  0 | train loss: 0.2007 | test accuracy: 0.94\n",
      "Epoch:  0 | train loss: 0.0836 | test accuracy: 0.95\n",
      "Epoch:  0 | train loss: 0.1191 | test accuracy: 0.94\n",
      "Epoch:  0 | train loss: 0.0443 | test accuracy: 0.96\n",
      "Epoch:  1 | train loss: 0.2616 | test accuracy: 0.94\n",
      "Epoch:  1 | train loss: 0.0274 | test accuracy: 0.95\n",
      "Epoch:  1 | train loss: 0.1429 | test accuracy: 0.96\n",
      "Epoch:  1 | train loss: 0.0969 | test accuracy: 0.96\n",
      "Epoch:  1 | train loss: 0.1041 | test accuracy: 0.95\n",
      "Epoch:  1 | train loss: 0.0632 | test accuracy: 0.96\n",
      "Epoch:  1 | train loss: 0.0388 | test accuracy: 0.96\n",
      "Epoch:  1 | train loss: 0.0759 | test accuracy: 0.96\n",
      "Epoch:  1 | train loss: 0.0371 | test accuracy: 0.97\n",
      "Epoch:  1 | train loss: 0.0881 | test accuracy: 0.97\n",
      "Epoch:  1 | train loss: 0.1022 | test accuracy: 0.97\n",
      "Epoch:  1 | train loss: 0.0818 | test accuracy: 0.97\n",
      "Epoch:  1 | train loss: 0.0771 | test accuracy: 0.97\n",
      "Epoch:  1 | train loss: 0.0582 | test accuracy: 0.96\n",
      "Epoch:  1 | train loss: 0.1175 | test accuracy: 0.95\n",
      "Epoch:  1 | train loss: 0.0755 | test accuracy: 0.97\n",
      "Epoch:  1 | train loss: 0.1347 | test accuracy: 0.96\n",
      "Epoch:  1 | train loss: 0.0802 | test accuracy: 0.97\n",
      "Epoch:  1 | train loss: 0.0545 | test accuracy: 0.97\n",
      "Epoch:  2 | train loss: 0.2115 | test accuracy: 0.96\n",
      "Epoch:  2 | train loss: 0.0072 | test accuracy: 0.96\n",
      "Epoch:  2 | train loss: 0.2150 | test accuracy: 0.96\n",
      "Epoch:  2 | train loss: 0.0710 | test accuracy: 0.96\n",
      "Epoch:  2 | train loss: 0.0125 | test accuracy: 0.97\n",
      "Epoch:  2 | train loss: 0.2017 | test accuracy: 0.96\n",
      "Epoch:  2 | train loss: 0.0997 | test accuracy: 0.96\n",
      "Epoch:  2 | train loss: 0.1487 | test accuracy: 0.96\n",
      "Epoch:  2 | train loss: 0.0913 | test accuracy: 0.97\n",
      "Epoch:  2 | train loss: 0.1475 | test accuracy: 0.96\n",
      "Epoch:  2 | train loss: 0.1332 | test accuracy: 0.97\n",
      "Epoch:  2 | train loss: 0.1125 | test accuracy: 0.97\n",
      "Epoch:  2 | train loss: 0.0894 | test accuracy: 0.96\n",
      "Epoch:  2 | train loss: 0.1405 | test accuracy: 0.97\n",
      "Epoch:  2 | train loss: 0.0840 | test accuracy: 0.97\n",
      "Epoch:  2 | train loss: 0.1669 | test accuracy: 0.97\n",
      "Epoch:  2 | train loss: 0.0817 | test accuracy: 0.95\n",
      "Epoch:  2 | train loss: 0.0233 | test accuracy: 0.95\n",
      "Epoch:  2 | train loss: 0.0192 | test accuracy: 0.97\n",
      "Epoch:  3 | train loss: 0.0192 | test accuracy: 0.96\n",
      "Epoch:  3 | train loss: 0.0433 | test accuracy: 0.96\n",
      "Epoch:  3 | train loss: 0.0955 | test accuracy: 0.97\n",
      "Epoch:  3 | train loss: 0.1048 | test accuracy: 0.96\n",
      "Epoch:  3 | train loss: 0.1557 | test accuracy: 0.97\n",
      "Epoch:  3 | train loss: 0.1054 | test accuracy: 0.97\n",
      "Epoch:  3 | train loss: 0.1437 | test accuracy: 0.96\n",
      "Epoch:  3 | train loss: 0.0200 | test accuracy: 0.97\n",
      "Epoch:  3 | train loss: 0.0207 | test accuracy: 0.97\n"
     ]
    },
    {
     "ename": "KeyboardInterrupt",
     "evalue": "",
     "output_type": "error",
     "traceback": [
      "\u001b[0;31m---------------------------------------------------------------------------\u001b[0m",
      "\u001b[0;31mKeyboardInterrupt\u001b[0m                         Traceback (most recent call last)",
      "\u001b[0;32m<ipython-input-9-506ce91f7b20>\u001b[0m in \u001b[0;36m<module>\u001b[0;34m()\u001b[0m\n\u001b[1;32m      7\u001b[0m         \u001b[0mloss\u001b[0m \u001b[0;34m=\u001b[0m \u001b[0mloss_func\u001b[0m\u001b[0;34m(\u001b[0m\u001b[0moutput\u001b[0m\u001b[0;34m,\u001b[0m \u001b[0mb_y\u001b[0m\u001b[0;34m)\u001b[0m                   \u001b[0;31m# cross entropy loss\u001b[0m\u001b[0;34m\u001b[0m\u001b[0m\n\u001b[1;32m      8\u001b[0m         \u001b[0moptimizer\u001b[0m\u001b[0;34m.\u001b[0m\u001b[0mzero_grad\u001b[0m\u001b[0;34m(\u001b[0m\u001b[0;34m)\u001b[0m                           \u001b[0;31m# clear gradients for this training step\u001b[0m\u001b[0;34m\u001b[0m\u001b[0m\n\u001b[0;32m----> 9\u001b[0;31m         \u001b[0mloss\u001b[0m\u001b[0;34m.\u001b[0m\u001b[0mbackward\u001b[0m\u001b[0;34m(\u001b[0m\u001b[0;34m)\u001b[0m                                 \u001b[0;31m# backpropagation, compute gradients\u001b[0m\u001b[0;34m\u001b[0m\u001b[0m\n\u001b[0m\u001b[1;32m     10\u001b[0m         \u001b[0moptimizer\u001b[0m\u001b[0;34m.\u001b[0m\u001b[0mstep\u001b[0m\u001b[0;34m(\u001b[0m\u001b[0;34m)\u001b[0m                                \u001b[0;31m# apply gradients\u001b[0m\u001b[0;34m\u001b[0m\u001b[0m\n\u001b[1;32m     11\u001b[0m \u001b[0;34m\u001b[0m\u001b[0m\n",
      "\u001b[0;32m~/anaconda3/envs/GPUReady/lib/python3.6/site-packages/torch/tensor.py\u001b[0m in \u001b[0;36mbackward\u001b[0;34m(self, gradient, retain_graph, create_graph)\u001b[0m\n\u001b[1;32m     91\u001b[0m                 \u001b[0mproducts\u001b[0m\u001b[0;34m.\u001b[0m \u001b[0mDefaults\u001b[0m \u001b[0mto\u001b[0m\u001b[0;31m \u001b[0m\u001b[0;31m`\u001b[0m\u001b[0;31m`\u001b[0m\u001b[0;32mFalse\u001b[0m\u001b[0;31m`\u001b[0m\u001b[0;31m`\u001b[0m\u001b[0;34m.\u001b[0m\u001b[0;34m\u001b[0m\u001b[0m\n\u001b[1;32m     92\u001b[0m         \"\"\"\n\u001b[0;32m---> 93\u001b[0;31m         \u001b[0mtorch\u001b[0m\u001b[0;34m.\u001b[0m\u001b[0mautograd\u001b[0m\u001b[0;34m.\u001b[0m\u001b[0mbackward\u001b[0m\u001b[0;34m(\u001b[0m\u001b[0mself\u001b[0m\u001b[0;34m,\u001b[0m \u001b[0mgradient\u001b[0m\u001b[0;34m,\u001b[0m \u001b[0mretain_graph\u001b[0m\u001b[0;34m,\u001b[0m \u001b[0mcreate_graph\u001b[0m\u001b[0;34m)\u001b[0m\u001b[0;34m\u001b[0m\u001b[0m\n\u001b[0m\u001b[1;32m     94\u001b[0m \u001b[0;34m\u001b[0m\u001b[0m\n\u001b[1;32m     95\u001b[0m     \u001b[0;32mdef\u001b[0m \u001b[0mregister_hook\u001b[0m\u001b[0;34m(\u001b[0m\u001b[0mself\u001b[0m\u001b[0;34m,\u001b[0m \u001b[0mhook\u001b[0m\u001b[0;34m)\u001b[0m\u001b[0;34m:\u001b[0m\u001b[0;34m\u001b[0m\u001b[0m\n",
      "\u001b[0;32m~/anaconda3/envs/GPUReady/lib/python3.6/site-packages/torch/autograd/__init__.py\u001b[0m in \u001b[0;36mbackward\u001b[0;34m(tensors, grad_tensors, retain_graph, create_graph, grad_variables)\u001b[0m\n\u001b[1;32m     88\u001b[0m     Variable._execution_engine.run_backward(\n\u001b[1;32m     89\u001b[0m         \u001b[0mtensors\u001b[0m\u001b[0;34m,\u001b[0m \u001b[0mgrad_tensors\u001b[0m\u001b[0;34m,\u001b[0m \u001b[0mretain_graph\u001b[0m\u001b[0;34m,\u001b[0m \u001b[0mcreate_graph\u001b[0m\u001b[0;34m,\u001b[0m\u001b[0;34m\u001b[0m\u001b[0m\n\u001b[0;32m---> 90\u001b[0;31m         allow_unreachable=True)  # allow_unreachable flag\n\u001b[0m\u001b[1;32m     91\u001b[0m \u001b[0;34m\u001b[0m\u001b[0m\n\u001b[1;32m     92\u001b[0m \u001b[0;34m\u001b[0m\u001b[0m\n",
      "\u001b[0;31mKeyboardInterrupt\u001b[0m: "
     ]
    }
   ],
   "source": [
    "# training and testing\n",
    "for epoch in range(EPOCH):\n",
    "    for step, (b_x, b_y) in enumerate(train_loader):        # gives batch data\n",
    "        b_x = b_x.view(-1, 28, 28)              # reshape x to (batch, time_step, input_size)\n",
    "\n",
    "        output = rnn(b_x)                               # rnn output\n",
    "        loss = loss_func(output, b_y)                   # cross entropy loss\n",
    "        optimizer.zero_grad()                           # clear gradients for this training step\n",
    "        loss.backward()                                 # backpropagation, compute gradients\n",
    "        optimizer.step()                                # apply gradients\n",
    "\n",
    "        if step % 50 == 0:\n",
    "            test_output = rnn(test_x)                   # (samples, time_step, input_size)\n",
    "            pred_y = torch.max(test_output, 1)[1].data.numpy().squeeze()\n",
    "            accuracy = float((pred_y == test_y).astype(int).sum()) / float(test_y.size)\n",
    "            print('Epoch: ', epoch, '| train loss: %.4f' % loss.data.numpy(), '| test accuracy: %.2f' % accuracy)\n",
    "\n",
    "# print 10 predictions from test data\n",
    "test_output = rnn(test_x[:10].view(-1, 28, 28))\n",
    "pred_y = torch.max(test_output, 1)[1].data.numpy().squeeze()\n",
    "print(pred_y, 'prediction number')\n",
    "print(test_y[:10], 'real number')"
   ]
  },
  {
   "cell_type": "code",
   "execution_count": 11,
   "metadata": {},
   "outputs": [
    {
     "data": {
      "text/plain": [
       "Parameter containing:\n",
       "tensor([[ 0.2633,  0.6584,  0.1871,  0.4013,  0.0962,  0.4499, -0.8522,  0.0503,\n",
       "         -0.1087,  0.1226,  0.3473, -0.4307, -0.2608,  0.4554, -0.2854,  0.2348,\n",
       "         -1.3658, -0.3349, -0.3948,  0.0371,  1.1289, -0.0988, -0.4447, -0.4712,\n",
       "          0.0561,  0.0530, -0.0047, -0.6892,  0.3752,  0.5110, -0.3544, -1.2825,\n",
       "          0.7021, -0.6821,  0.3685,  0.1282, -0.1653,  0.0253, -0.0646,  0.2758,\n",
       "         -0.0768, -0.9475, -0.1637,  0.7217,  0.6993, -0.0249, -0.7454,  0.5847,\n",
       "          0.2886,  0.0940, -0.2624, -0.5314, -0.2422,  0.8091,  0.8172,  0.7817,\n",
       "         -0.4548, -0.4519,  0.9141, -0.6201,  0.5615, -0.7955, -0.2036, -0.1706],\n",
       "        [-1.7525, -0.5507, -0.7641, -0.0780, -0.6159, -0.5347, -0.6304,  0.1556,\n",
       "          0.7441,  0.3719,  1.5924, -0.2875,  0.3930,  0.7094,  0.8653, -0.1583,\n",
       "          0.1747,  0.4373,  0.1138, -0.4036,  0.5774, -1.3483,  0.1043,  0.6092,\n",
       "          0.0792,  0.1663,  0.8955,  0.4986, -0.0591, -0.7911,  0.5585,  0.0118,\n",
       "         -0.2177,  0.4024, -0.1611,  0.3936, -0.0926, -0.0278,  0.3671, -0.3047,\n",
       "          0.5047,  0.1589,  0.2537, -0.6162,  0.4309,  0.5337, -0.1204,  0.1211,\n",
       "         -0.9315,  0.2191,  0.0784,  0.2707,  0.0524, -0.1458, -0.3982,  0.3702,\n",
       "          1.0872,  0.9284,  0.8430,  0.4540, -0.5593,  0.5641, -0.1062,  0.4734],\n",
       "        [ 0.4568,  0.1094,  0.4161, -0.1116,  0.3300, -0.2856,  0.5474,  0.1986,\n",
       "          0.0465, -0.5164, -0.4340, -0.3096,  0.5083,  0.0685,  0.0156, -0.0305,\n",
       "         -1.2591,  0.2971, -0.3692, -1.0638, -0.4218, -0.1543, -0.4363,  0.6904,\n",
       "         -0.4774,  0.1178, -0.4872, -0.0317,  0.3335,  0.8198,  0.9441, -0.4773,\n",
       "         -0.7971,  0.8151, -0.3963, -0.2712,  0.4585, -0.3933, -0.4314, -1.3507,\n",
       "          0.0826,  0.6075, -0.0762, -0.4359, -0.4036,  0.0120,  0.3629,  0.2824,\n",
       "         -0.0123,  0.2188, -0.5888, -0.0914,  0.4881, -0.8441, -0.0565,  0.2977,\n",
       "         -0.1553,  0.4012,  0.6086, -0.9056, -0.2442,  0.4598, -0.5327,  0.3801],\n",
       "        [ 0.0660, -0.7014, -0.0574, -0.4906, -0.1171, -0.0955,  0.4940,  0.3401,\n",
       "         -0.1314, -0.7280,  0.6106,  0.0845, -1.7996,  0.4722, -0.1096, -0.1202,\n",
       "         -0.0284, -0.2822, -0.1985, -0.2837, -0.2070,  0.4092,  0.6182, -0.6029,\n",
       "          0.5700, -0.9373,  0.6161,  0.4725,  0.1498,  0.0735,  0.8489,  0.2139,\n",
       "          0.4718,  0.4518, -0.3061,  0.2441, -0.0703,  0.0403,  0.2412,  0.8842,\n",
       "         -0.4071,  0.4587, -0.1773, -0.2807,  0.4194, -0.8051,  0.6709,  0.2786,\n",
       "          0.4238,  0.5745, -0.4937,  0.0644,  0.1495,  0.2883, -0.0450,  0.0642,\n",
       "         -0.2519,  0.1255, -0.8288, -0.0182, -0.4187, -0.2870, -1.2122, -0.3906],\n",
       "        [ 0.3204, -0.2328,  0.3221, -0.1290,  0.6168,  0.2694, -0.4722,  0.2424,\n",
       "          0.2683,  1.0841, -0.7152,  0.7470,  0.2391,  0.2697,  0.5867,  0.3134,\n",
       "          0.1782,  0.0398,  0.1555, -0.3138, -0.0712, -0.5659, -0.1954,  0.6078,\n",
       "         -0.1608, -0.0508, -0.5730, -0.1983, -0.0892,  0.7094, -0.3781,  0.3007,\n",
       "         -0.3183, -0.0234, -0.0294, -0.8044,  0.5838, -0.1421,  0.0348,  0.1884,\n",
       "         -0.8481,  0.0443,  1.1452, -0.0502, -0.1437,  0.5052, -0.0110, -0.2955,\n",
       "         -1.1936,  0.0311,  1.3026, -0.1635,  0.8777, -0.1224,  0.1875, -0.3121,\n",
       "          0.1997, -0.4765,  0.0053,  0.3311,  0.7025, -0.1227,  0.6805, -0.1463],\n",
       "        [-0.3457,  0.4185, -0.0849,  0.6746,  0.2856,  0.2327,  0.4444, -1.2695,\n",
       "         -0.0856, -0.1099,  0.9951,  0.0292, -0.6368, -0.4408, -0.5638, -0.5564,\n",
       "          0.2282, -0.1425,  0.0399,  0.5981, -0.5475,  0.4529,  0.6092, -0.5975,\n",
       "         -0.0614, -0.4657,  0.0252, -0.2061,  0.5844, -0.1803, -0.4831, -0.0432,\n",
       "         -0.0229, -0.1174, -0.1565, -0.1535, -0.3948,  0.0020,  0.9592, -0.0636,\n",
       "         -0.2743, -0.0085, -0.0551,  0.1392, -0.3649, -0.4346, -0.3929, -0.1908,\n",
       "          0.2800,  0.4963, -0.4709,  0.3905, -0.0790, -0.2511, -0.2229, -0.3658,\n",
       "          0.2114, -0.1551,  0.3425,  0.0085, -0.5979, -0.3369,  0.9757, -0.2610],\n",
       "        [-0.9545,  0.1312,  0.2846,  0.3405,  0.2389,  0.2033, -0.1290, -0.5176,\n",
       "          0.5165, -0.1668, -0.2558,  0.0230, -0.1880, -0.6575,  0.8852,  0.1612,\n",
       "         -0.8286, -0.2192,  0.3231,  1.3889,  0.0250, -0.4530, -0.2018,  0.2743,\n",
       "          0.1254,  0.2717,  0.0524,  0.1198,  0.1163,  0.2389, -0.3171, -0.6815,\n",
       "         -0.1291, -0.9937,  0.5748, -0.7500, -0.6775, -0.3535, -0.2127, -1.4179,\n",
       "         -0.4858, -0.1243,  0.0845,  0.0727,  0.0791, -0.4645, -0.3317, -0.4476,\n",
       "         -0.5674, -0.1899,  1.0553,  0.4590,  0.1709,  0.5045, -0.4025,  0.5462,\n",
       "         -0.4126,  0.1980,  0.1350, -0.3358, -1.0162,  0.4483,  0.7072,  0.1904],\n",
       "        [ 0.7736, -0.5222, -0.2583, -0.8983, -0.5602,  0.1482, -0.5592,  0.3560,\n",
       "         -0.0318,  0.2464, -0.6611,  0.2379,  0.3432,  0.4458, -1.1116,  0.2520,\n",
       "          0.5640, -0.3852,  0.8843, -0.6725,  0.0732,  0.5901, -0.3754,  0.0380,\n",
       "         -0.9055,  1.0800,  0.3577,  0.4081, -0.5552, -0.3072,  1.9025,  0.3630,\n",
       "         -0.8315,  0.2655,  0.9514, -0.0826,  0.5759,  0.7088,  0.2477,  0.5466,\n",
       "          0.4721, -1.1025, -0.2103, -0.5006, -0.0551,  0.8050,  0.1247,  0.1115,\n",
       "          0.5834, -0.9767,  0.5522, -0.4180, -0.5888, -0.5253,  0.3686, -0.4194,\n",
       "         -0.0123, -0.2562,  0.8776,  0.2720,  0.2419, -0.0612, -0.5730, -0.6374],\n",
       "        [ 0.4093,  0.7252, -0.0502,  0.5311, -0.3011, -0.2388,  0.4355,  0.0931,\n",
       "          0.0002, -0.5095, -0.1002, -0.1970,  0.5869, -0.1382, -0.2470, -0.3205,\n",
       "          0.0810, -0.1913, -0.4863,  0.4750,  0.1624, -0.1814, -0.0062, -0.1791,\n",
       "          0.0392,  0.1434,  0.4186, -0.5919, -0.9028, -0.2076, -0.6248, -0.3797,\n",
       "          0.8657, -0.3210, -0.5228,  0.4979,  0.1543,  0.4366, -0.3342,  0.0281,\n",
       "         -0.3247,  1.2561,  0.0946,  0.5109,  0.3090, -0.1088,  0.8498, -0.2539,\n",
       "         -0.1716, -0.0626,  0.1256, -0.6241, -0.0172,  0.3499, -0.0854,  0.4548,\n",
       "          0.2045, -0.3014, -0.9029,  0.1054,  0.3556,  0.2101,  0.4749,  0.6594],\n",
       "        [ 0.4569,  0.1418, -0.4456, -0.1740,  0.6001,  0.5434, -0.3516,  0.8615,\n",
       "         -0.6837,  0.3332, -0.2036,  0.9117,  0.3632,  0.2617,  0.4898,  0.0611,\n",
       "          0.4646,  0.4639,  0.3101, -0.1086, -0.3286,  0.4560,  0.1974, -0.0013,\n",
       "          0.4488,  0.0540, -0.3522,  0.5299,  0.4502, -0.2835, -1.3990,  0.5832,\n",
       "         -0.2302, -0.1929,  0.2258, -0.4401,  0.2041,  0.3772, -0.4135,  0.2615,\n",
       "          0.3191, -0.5406, -0.4941, -0.1042, -0.4385,  0.0610, -0.7420, -0.3453,\n",
       "          0.3944, -0.5647, -0.8966,  0.8236, -0.9105, -0.1378,  0.0972, -0.4417,\n",
       "          0.3573, -0.1172, -0.9289,  0.3635,  0.8646, -0.7169, -1.0472, -0.7889]],\n",
       "       requires_grad=True)"
      ]
     },
     "execution_count": 11,
     "metadata": {},
     "output_type": "execute_result"
    }
   ],
   "source": [
    "rnn.out.weight"
   ]
  },
  {
   "cell_type": "code",
   "execution_count": null,
   "metadata": {},
   "outputs": [],
   "source": []
  }
 ],
 "metadata": {
  "kernelspec": {
   "display_name": "Python (GPUReady)",
   "language": "python",
   "name": "gpuready"
  },
  "language_info": {
   "codemirror_mode": {
    "name": "ipython",
    "version": 3
   },
   "file_extension": ".py",
   "mimetype": "text/x-python",
   "name": "python",
   "nbconvert_exporter": "python",
   "pygments_lexer": "ipython3",
   "version": "3.6.4"
  }
 },
 "nbformat": 4,
 "nbformat_minor": 2
}
