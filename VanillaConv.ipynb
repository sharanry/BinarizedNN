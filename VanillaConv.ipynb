{
 "cells": [
  {
   "cell_type": "code",
   "execution_count": 1,
   "metadata": {},
   "outputs": [],
   "source": [
    "import torch\n",
    "from torch import nn\n",
    "import matplotlib.pyplot as plt\n",
    "import torch.nn.functional as F\n",
    "import torch.optim as optim\n",
    "from torchvision import datasets, transforms"
   ]
  },
  {
   "cell_type": "code",
   "execution_count": 2,
   "metadata": {},
   "outputs": [],
   "source": [
    "class Net(nn.Module):\n",
    "    def __init__(self):\n",
    "        super(Net, self).__init__()\n",
    "        self.conv1 = nn.Conv2d(1, 10, kernel_size=5)\n",
    "        self.conv2 = nn.Conv2d(10, 20, kernel_size=5)\n",
    "        self.conv3 = nn.Conv2d(20, 30, kernel_size=5)\n",
    "#         self.conv2_drop = nn.Dropout2d()\n",
    "        self.fc1 = nn.Linear(480, 50)\n",
    "        self.fc2 = nn.Linear(50, 10)\n",
    "\n",
    "    def forward(self, x):\n",
    "        x = F.hardtanh(F.max_pool2d(self.conv1(x), 2))\n",
    "#         x = F.relu(F.max_pool2d(self.conv2_drop(self.conv2(x)), 2))\n",
    "        x = F.hardtanh(F.max_pool2d(self.conv2(x), 1))\n",
    "        x = F.hardtanh(F.max_pool2d(self.conv3(x), 1))\n",
    "        x = x.view(-1, 480)\n",
    "        x = F.hardtanh(self.fc1(x))\n",
    "#         x = F.dropout(x, training=self.training)\n",
    "        x = self.fc2(x)\n",
    "        return F.log_softmax(x, dim=1)"
   ]
  },
  {
   "cell_type": "code",
   "execution_count": 3,
   "metadata": {},
   "outputs": [],
   "source": [
    "def train(args, model, device, train_loader, optimizer, epoch):\n",
    "    model.train()\n",
    "    for batch_idx, (data, target) in enumerate(train_loader):\n",
    "        data, target = data.to(device), target.to(device)\n",
    "        optimizer.zero_grad()\n",
    "        output = model(data)\n",
    "        loss = F.nll_loss(output, target)\n",
    "        loss.backward()\n",
    "        optimizer.step()\n",
    "        if batch_idx % args[\"log_interval\"] == 0:\n",
    "            print('Train Epoch: {} [{}/{} ({:.0f}%)]\\tLoss: {:.6f}'.format(\n",
    "                epoch, batch_idx * len(data), len(train_loader.dataset),\n",
    "                100. * batch_idx / len(train_loader), loss.item()))\n",
    "\n",
    "def test(args, model, device, test_loader):\n",
    "    model.eval()\n",
    "    test_loss = 0\n",
    "    correct = 0\n",
    "    with torch.no_grad():\n",
    "        for data, target in test_loader:\n",
    "            data, target = data.to(device), target.to(device)\n",
    "            output = model(data)\n",
    "            test_loss += F.nll_loss(output, target, reduction='sum').item() # sum up batch loss\n",
    "            pred = output.max(1, keepdim=True)[1] # get the index of the max log-probability\n",
    "            correct += pred.eq(target.view_as(pred)).sum().item()\n",
    "\n",
    "    test_loss /= len(test_loader.dataset)\n",
    "    print('\\nTest set: Average loss: {:.4f}, Accuracy: {}/{} ({:.0f}%)\\n'.format(\n",
    "        test_loss, correct, len(test_loader.dataset),\n",
    "        100. * correct / len(test_loader.dataset)))\n",
    "\n"
   ]
  },
  {
   "cell_type": "code",
   "execution_count": 4,
   "metadata": {},
   "outputs": [
    {
     "name": "stdout",
     "output_type": "stream",
     "text": [
      "Train Epoch: 1 [0/60000 (0%)]\tLoss: 2.319399\n",
      "Train Epoch: 1 [5120/60000 (8%)]\tLoss: 2.271678\n",
      "Train Epoch: 1 [10240/60000 (17%)]\tLoss: 2.214889\n",
      "Train Epoch: 1 [15360/60000 (25%)]\tLoss: 2.109653\n",
      "Train Epoch: 1 [20480/60000 (34%)]\tLoss: 1.945365\n",
      "Train Epoch: 1 [25600/60000 (42%)]\tLoss: 1.766762\n",
      "Train Epoch: 1 [30720/60000 (51%)]\tLoss: 1.607390\n",
      "Train Epoch: 1 [35840/60000 (59%)]\tLoss: 1.480028\n",
      "Train Epoch: 1 [40960/60000 (68%)]\tLoss: 1.300530\n",
      "Train Epoch: 1 [46080/60000 (76%)]\tLoss: 1.123429\n",
      "Train Epoch: 1 [51200/60000 (85%)]\tLoss: 1.091928\n",
      "Train Epoch: 1 [56320/60000 (93%)]\tLoss: 1.103130\n",
      "\n",
      "Test set: Average loss: 0.9345, Accuracy: 7932/10000 (79%)\n",
      "\n"
     ]
    }
   ],
   "source": [
    "args = {\n",
    "    \"batch_size\": 512,\n",
    "    \"test_batch_size\": 4096,\n",
    "    \"epochs\": 1,\n",
    "    \"lr\":0.01,\n",
    "    \"momentum\": 0.5,\n",
    "    \"no_cuda\": False,\n",
    "    \"seed\": 1,\n",
    "    \"log_interval\": 10\n",
    "}\n",
    "    # Training settings\n",
    "\n",
    "use_cuda = not args[\"no_cuda\"] and torch.cuda.is_available()\n",
    "\n",
    "torch.manual_seed(args[\"seed\"])\n",
    "\n",
    "device = torch.device(\"cuda\" if use_cuda else \"cpu\")\n",
    "\n",
    "kwargs = {'num_workers': 1, 'pin_memory': True} if use_cuda else {}\n",
    "train_loader = torch.utils.data.DataLoader(\n",
    "    datasets.MNIST('../data', train=True, download=True,\n",
    "                   transform=transforms.Compose([\n",
    "                       transforms.ToTensor(),\n",
    "                       transforms.Normalize((0.1307,), (0.3081,))\n",
    "                   ])),\n",
    "    batch_size=args[\"batch_size\"], shuffle=True, **kwargs)\n",
    "test_loader = torch.utils.data.DataLoader(\n",
    "    datasets.MNIST('../data', train=False, transform=transforms.Compose([\n",
    "                       transforms.ToTensor(),\n",
    "                       transforms.Normalize((0.1307,), (0.3081,))\n",
    "                   ])),\n",
    "    batch_size=args[\"test_batch_size\"], shuffle=True, **kwargs)\n",
    "\n",
    "\n",
    "model = Net().to(device)\n",
    "optimizer = optim.SGD(model.parameters(), lr=args[\"lr\"], momentum=args[\"momentum\"])\n",
    "\n",
    "for epoch in range(1, args[\"epochs\"] + 1):\n",
    "    train(args, model, device, train_loader, optimizer, epoch)\n",
    "    test(args, model, device, test_loader)"
   ]
  },
  {
   "cell_type": "markdown",
   "metadata": {},
   "source": [
    " - When both conv and FC layers are binary learning is not happening. Maybe the model is not rich enough??\n",
    " - "
   ]
  },
  {
   "cell_type": "code",
   "execution_count": 5,
   "metadata": {},
   "outputs": [
    {
     "name": "stdout",
     "output_type": "stream",
     "text": [
      "Net(\n",
      "  (conv1): Conv2d(1, 10, kernel_size=(5, 5), stride=(1, 1))\n",
      "  (conv2): Conv2d(10, 20, kernel_size=(5, 5), stride=(1, 1))\n",
      "  (conv3): Conv2d(20, 30, kernel_size=(5, 5), stride=(1, 1))\n",
      "  (fc1): Linear(in_features=480, out_features=50, bias=True)\n",
      "  (fc2): Linear(in_features=50, out_features=10, bias=True)\n",
      ")\n"
     ]
    }
   ],
   "source": [
    "print(model)"
   ]
  },
  {
   "cell_type": "code",
   "execution_count": null,
   "metadata": {},
   "outputs": [],
   "source": []
  }
 ],
 "metadata": {
  "kernelspec": {
   "display_name": "Python (GPUReady)",
   "language": "python",
   "name": "gpuready"
  },
  "language_info": {
   "codemirror_mode": {
    "name": "ipython",
    "version": 3
   },
   "file_extension": ".py",
   "mimetype": "text/x-python",
   "name": "python",
   "nbconvert_exporter": "python",
   "pygments_lexer": "ipython3",
   "version": "3.6.4"
  }
 },
 "nbformat": 4,
 "nbformat_minor": 2
}
